{
 "cells": [
  {
   "cell_type": "code",
   "execution_count": 1,
   "metadata": {},
   "outputs": [],
   "source": [
    "import os\n",
    "import json\n",
    "import pandas as pd"
   ]
  },
  {
   "cell_type": "code",
   "execution_count": 2,
   "metadata": {},
   "outputs": [],
   "source": [
    "from textattack.augmentation import CLAREAugmenter"
   ]
  },
  {
   "cell_type": "code",
   "execution_count": 4,
   "metadata": {},
   "outputs": [
    {
     "name": "stderr",
     "output_type": "stream",
     "text": [
      "If you want to use `BertLMHeadModel` as a standalone, add `is_decoder=True.`\n",
      "Some weights of the model checkpoint at bert-base-chinese were not used when initializing BertLMHeadModel: ['cls.seq_relationship.weight', 'cls.seq_relationship.bias']\n",
      "- This IS expected if you are initializing BertLMHeadModel from the checkpoint of a model trained on another task or with another architecture (e.g. initializing a BertForSequenceClassification model from a BertForPreTraining model).\n",
      "- This IS NOT expected if you are initializing BertLMHeadModel from the checkpoint of a model that you expect to be exactly identical (initializing a BertForSequenceClassification model from a BertForSequenceClassification model).\n"
     ]
    }
   ],
   "source": [
    "augmenter = CLAREAugmenter(\n",
    "    model=\"bert-base-chinese\",\n",
    "    # 虽然看文档说这个可以不使用, 但是不使用的时候这个默认值不正常\n",
    "    tokenizer=\"bert-base-chinese\",\n",
    "    pct_words_to_swap=0.2,\n",
    "    transformations_per_example=10,\n",
    "    max_length=64,\n",
    ")"
   ]
  },
  {
   "cell_type": "code",
   "execution_count": 6,
   "metadata": {},
   "outputs": [
    {
     "name": "stdout",
     "output_type": "stream",
     "text": [
      "2023-03-25 18:44:46,561 SequenceTagger predicts: Dictionary with 20 tags: <unk>, O, INTJ, PUNCT, VERB, PRON, NOUN, ADV, DET, ADJ, ADP, NUM, PROPN, CCONJ, PART, AUX, X, SYM, <START>, <STOP>\n"
     ]
    },
    {
     "data": {
      "text/plain": [
       "['上早也天气良好, 一起来大冒险吧, 原神是个好游戏',\n",
       " '今天的天气真好, 一起开拓游险来, 原神是个好游戏',\n",
       " '今天的天气真好, 一起捧场探亲吧, 原神是个好游戏',\n",
       " '今天的天气真好, 一起来闯凶车车, 原神是个好游戏',\n",
       " '今天的天气真好, 一起闯过保险区, 原神是个好游戏',\n",
       " '今天的天气真好, 来个360°再冒险吧, 原神是个好游戏',\n",
       " '今天的天气真好, 走路进些冒险吧, 原神是个好游戏',\n",
       " '今天的天气真是, 一起来战冒险吧, 原神是个好游戏',\n",
       " '今天里天阴大好, 一起来大冒险吧, 原神各个好游戏',\n",
       " '天津的天气真美, 一起来大冒险吧, 原神这个好游戏']"
      ]
     },
     "execution_count": 6,
     "metadata": {},
     "output_type": "execute_result"
    }
   ],
   "source": [
    "s = \"今天的天气真好, 一起来大冒险吧, 原神是个好游戏\"\n",
    "# s = 'What I cannot create, I do not understand.'\n",
    "augmenter.augment(s)"
   ]
  },
  {
   "cell_type": "code",
   "execution_count": null,
   "metadata": {},
   "outputs": [],
   "source": [
    "from textattack.shared import AttackedText"
   ]
  },
  {
   "cell_type": "code",
   "execution_count": null,
   "metadata": {},
   "outputs": [
    {
     "name": "stdout",
     "output_type": "stream",
     "text": [
      "['今', '天', '的', '天', '气', '真', '好', '一', '起', '来', '大', '冒', '险', '吧', '原', '神', '是', '个', '好', '游', '戏']\n"
     ]
    }
   ],
   "source": [
    "s = \"今天的天气真好, 一起来大冒险吧, 原神是个好游戏\"\n",
    "attacked_text = AttackedText(s)\n",
    "print(attacked_text.words)"
   ]
  },
  {
   "cell_type": "code",
   "execution_count": null,
   "metadata": {},
   "outputs": [
    {
     "data": {
      "text/plain": [
       "{'original_index_map': array([ 0,  1,  2,  3,  4,  5,  6,  7,  8,  9, 10, 11, 12, 13, 14, 15, 16,\n",
       "        17, 18, 19, 20]),\n",
       " 'modified_indices': set()}"
      ]
     },
     "execution_count": 8,
     "metadata": {},
     "output_type": "execute_result"
    }
   ],
   "source": [
    "attacked_text.attack_attrs"
   ]
  }
 ],
 "metadata": {
  "kernelspec": {
   "display_name": "nlp",
   "language": "python",
   "name": "python3"
  },
  "language_info": {
   "codemirror_mode": {
    "name": "ipython",
    "version": 3
   },
   "file_extension": ".py",
   "mimetype": "text/x-python",
   "name": "python",
   "nbconvert_exporter": "python",
   "pygments_lexer": "ipython3",
   "version": "3.8.12"
  },
  "orig_nbformat": 4
 },
 "nbformat": 4,
 "nbformat_minor": 2
}
